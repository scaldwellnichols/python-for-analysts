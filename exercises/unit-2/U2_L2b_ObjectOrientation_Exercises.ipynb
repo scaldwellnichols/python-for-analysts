{
 "cells": [
  {
   "cell_type": "markdown",
   "metadata": {},
   "source": [
    "# Object Oriented Programming\n",
    "\n",
    "## A Miniature Library\n",
    "To demonstrate some ideas in object oriented design we consider building a software system for a library.\n",
    "Such a system would be used to record the books held by the library and details about them, the physical location of books in the library, and borrowing of books. \n",
    "\n",
    "Let's imagine a very tiny library.\n",
    "It contains the following books:\n",
    "\n",
    "|title|author|copies|\n",
    "|---|---|---|\n",
    "|A Tale of Two Cities|Charles Dickens|1|\n",
    "|Harry Potter and the Return of the King|J. K. R. R. Tolkein|2|\n",
    "|Gok Cooks Chinese|Gok Wan|1|\n",
    "|The Elements|Euclid of Alexandria|15|\n",
    "\n",
    "We can model all this information using lists and dictionaries:"
   ]
  },
  {
   "cell_type": "code",
   "execution_count": null,
   "metadata": {},
   "outputs": [],
   "source": [
    "allBooks1 = [\n",
    "    {'title': 'A Tale of Two Cities', 'author': 'Charles Dickens', 'copies': 1},\n",
    "    {'title': 'Harry Potter and the Return of the King', 'author': 'J. K. R. R. Tolkein', 'copies': 2},\n",
    "    {'title': 'Gok Cooks Chinese', 'author': 'Gok Wan', 'copies': 1},\n",
    "    {'title': 'The Elements', 'author': 'Euclid of Alexandria', 'copies':15}\n",
    "]"
   ]
  },
  {
   "cell_type": "markdown",
   "metadata": {},
   "source": [
    "So what's the point of classes?\n",
    "\n",
    "Firstly, it's just a bit neater and more explicit.\n",
    "To achieve basically the same thing in an object oriented way we would define a Book class and create several instances of that class.\n",
    "Instead of using dictionaries (which could represent anything at all or contain arbitrary, unrelated values) that implicitly represent books we create instances of a class called Book.\n",
    "The intention of the programmer is more obvious, this helps readability."
   ]
  },
  {
   "cell_type": "code",
   "execution_count": null,
   "metadata": {},
   "outputs": [],
   "source": [
    "class Book():\n",
    "    def __init__(self, title, author, copies):\n",
    "        self.title = title\n",
    "        self.author = author\n",
    "        self.copies = copies\n",
    "\n",
    "t2c = Book('A Tale of Two Cities', 'Charles Dickens', 1)\n",
    "hp = Book('Harry Potter and the Return of the King', 'J. K. R. R. Tolkien', 2)\n",
    "gok = Book('Gok Cooks Chinese', 'Gok Wan', 1)\n",
    "el = Book('The Elements', 'Euclid of Alexandria', 15)\n",
    "\n",
    "allBooks2 = [t2c, hp, gok, el]"
   ]
  },
  {
   "cell_type": "markdown",
   "metadata": {},
   "source": [
    "The functions ``type()`` and ``isinstance()`` allow us to check the class of an object."
   ]
  },
  {
   "cell_type": "code",
   "execution_count": null,
   "metadata": {},
   "outputs": [],
   "source": [
    "type(el)"
   ]
  },
  {
   "cell_type": "code",
   "execution_count": null,
   "metadata": {},
   "outputs": [],
   "source": [
    "isinstance(hp, Book)"
   ]
  },
  {
   "cell_type": "markdown",
   "metadata": {},
   "source": [
    "``allBooks1`` is a list so a specific book is selected using its position in the list. "
   ]
  },
  {
   "cell_type": "code",
   "execution_count": null,
   "metadata": {},
   "outputs": [],
   "source": [
    "allBooks1[3]"
   ]
  },
  {
   "cell_type": "markdown",
   "metadata": {},
   "source": [
    "The book itself is represented as a dictionary so information about it is accessed using the dictionary keys."
   ]
  },
  {
   "cell_type": "code",
   "execution_count": null,
   "metadata": {},
   "outputs": [],
   "source": [
    "allBooks1[3]['title']"
   ]
  },
  {
   "cell_type": "markdown",
   "metadata": {},
   "source": [
    "``allBooks2`` is also a list and we select a specific book in the same way."
   ]
  },
  {
   "cell_type": "code",
   "execution_count": null,
   "metadata": {},
   "outputs": [],
   "source": [
    "allBooks2[3]"
   ]
  },
  {
   "cell_type": "markdown",
   "metadata": {},
   "source": [
    "However, the book itself is represented as an object so its attributes are accessed using a different syntax."
   ]
  },
  {
   "cell_type": "code",
   "execution_count": null,
   "metadata": {},
   "outputs": [],
   "source": [
    "allBooks2[3].title"
   ]
  },
  {
   "cell_type": "markdown",
   "metadata": {},
   "source": [
    "## Exercise 1\n",
    "\n",
    "Use both the dictionary and class based approaches to extract a list of all authors featured in the library."
   ]
  },
  {
   "cell_type": "code",
   "execution_count": null,
   "metadata": {},
   "outputs": [],
   "source": [
    "# using allBooks1, a list of dictionaries"
   ]
  },
  {
   "cell_type": "code",
   "execution_count": null,
   "metadata": {},
   "outputs": [],
   "source": [
    "# using allBooks2, a list of Book objects"
   ]
  },
  {
   "cell_type": "markdown",
   "metadata": {},
   "source": [
    "How else does using classes and objects provide a benefit over using basic data types?\n",
    "\n",
    "When using a list of dictionaries it's extra work to enforce that all the dictionaries contain the same keys and all values are appropriate. \n",
    "Imagine a new book is added to the library, so we modify the list, but for some reason the author is not included.\n",
    "The book is added without a problem but it would cause an error if we later try to list all the authors as in exercise 1."
   ]
  },
  {
   "cell_type": "code",
   "execution_count": null,
   "metadata": {},
   "outputs": [],
   "source": [
    "# create an incomplete book entry. This might be added to our list of books\n",
    "gruf = {'title': 'The Gruffalo', 'copies': 5}\n",
    "\n",
    "# attempt to get the author of this book\n",
    "gruf['author']"
   ]
  },
  {
   "cell_type": "markdown",
   "metadata": {},
   "source": [
    "This could be managed in various ways, but by using classes it's quite straightforward to see what must be known about an object of this type. \n",
    "Any instance of the ``Book`` class must have exactly the right set of attributes.\n",
    "We don't run the risk of miss-spelling a dictionary key or forgetting a value entirely.\n",
    "If we try to create a book object without an author this will cause an error right away instead of storing up problems for the future. "
   ]
  },
  {
   "cell_type": "code",
   "execution_count": null,
   "metadata": {},
   "outputs": [],
   "source": [
    "# attempt to create a book object without author\n",
    "gruf = Book('The Gruffalo', 5)"
   ]
  },
  {
   "cell_type": "markdown",
   "metadata": {},
   "source": [
    "It's also easy to use the ``__init__()`` method to perform some basic checks on the inputs, for example we should check that the number of copies of a book is positive."
   ]
  },
  {
   "cell_type": "code",
   "execution_count": null,
   "metadata": {},
   "outputs": [],
   "source": [
    "class Book():\n",
    "    def __init__(self, title, author, copies):\n",
    "        self.title = title\n",
    "        self.author = author\n",
    "        if copies <= 0:\n",
    "            # this shouldn't be possible - cause an error\n",
    "            raise Exception('Negative number of copies!!')\n",
    "        self.copies = copies\n",
    "\n",
    "newBook = Book('How to be Inspired When Inventing Book Titles', 'Anon', -4)"
   ]
  },
  {
   "cell_type": "markdown",
   "metadata": {},
   "source": [
    "Another benefit to using classes is that they can hold functions as well as attributes. \n",
    "This means that we can collect together related functions.\n",
    "A function inside a class is called a **method**.\n",
    "Because the method belongs to the class it automatically gets access to the class attributes without these needing to be specified individually as function parameters.\n",
    "This can help to keep the method's signature more succinct.\n",
    "\n",
    "Suppose we bought an extra copy of 'A Tale of Two Cities', we want to update the record of this book.\n",
    "Using dictionaries, we might do the following:"
   ]
  },
  {
   "cell_type": "code",
   "execution_count": null,
   "metadata": {},
   "outputs": [],
   "source": [
    "def newCopyPurchased(bookRecord):\n",
    "    bookRecord['copies'] += 1\n",
    "\n",
    "# create book record\n",
    "gruf = {'title': 'The Gruffalo', 'author': 'Julia Donaldson', 'copies': 5}\n",
    "\n",
    "print('before: {}'.format(gruf['copies']))\n",
    "\n",
    "# add another copy\n",
    "newCopyPurchased(gruf)\n",
    "\n",
    "print('after: {}'.format(gruf['copies']))"
   ]
  },
  {
   "cell_type": "markdown",
   "metadata": {},
   "source": [
    "An object oriented approach is to put a function inside the Book class definition."
   ]
  },
  {
   "cell_type": "code",
   "execution_count": null,
   "metadata": {},
   "outputs": [],
   "source": [
    "class Book():\n",
    "    def __init__(self, title, author, copies):\n",
    "        self.title = title\n",
    "        self.author = author\n",
    "        if not isinstance(copies, int) or copies <= 0:\n",
    "            # this shouldn't be possible - cause an error\n",
    "            raise Exception('Number of copies must be a positive integer')\n",
    "        self.copies = copies\n",
    "    \n",
    "    def newCopyPurchased(self):\n",
    "        # increase the value of the number of copies attribute for this object by 1\n",
    "        self.copies += 1\n",
    "\n",
    "# create Book object\n",
    "gruf = Book('The Gruffalo', 'Julia Donaldson', 5)\n",
    "\n",
    "print('before: {}'.format(gruf.copies))\n",
    "\n",
    "# add another copy\n",
    "gruf.newCopyPurchased()\n",
    "\n",
    "print('after: {}'.format(gruf.copies))"
   ]
  },
  {
   "cell_type": "markdown",
   "metadata": {},
   "source": [
    "The method ``newCopyPurchased()`` has the parameter ``self``, just like the ``__init__()`` method did.\n",
    "\n",
    "The syntax to call a method is\n",
    "```\n",
    "object.<name of method>()\n",
    "```\n",
    "and ``self`` refers to the object the method was called for. \n",
    "\n",
    "In our example, the Book class is instantiated to an object which we've assigned to the variable ``gruf``.\n",
    "Then we call the method by ``gruf.newCopyPurchased()``.\n",
    "Therefore, ``self`` will refer to the Book object we called ``gruf`` in this example.\n",
    "Notice that because the method had access to ``self`` it was able to use the ``copies`` attribute of the object, even though this was not explicitly given as an argument."
   ]
  },
  {
   "cell_type": "markdown",
   "metadata": {},
   "source": [
    "### Extending the Library System\n",
    "\n",
    "As well as maintaining a record of the current stock a library would also be intrested in the physical location of each book.\n",
    "When a user searches for a title they need to be know where they can find the book. \n",
    "Different copies of the same book may be stored in different pysical locations.\n",
    "With our current class this is not easy to model.\n",
    "A library system would also need to represent whether each copy of a book is currently available, borrowed or overdue.\n",
    "\n",
    "When thinking about books we need to distinguish between the piece of work and a specific copy of that piece of work. \n",
    "If I have two copies of 'Harry Potter and the Return of the King' it is true in natural English to say that they are the same book and also that they are different books.\n",
    "Natural language allows for two apparently contradictory statements to both be correct.\n",
    "When creating a software system it is important to be more precise.\n",
    "\n",
    "In the context of a library it is useful to keep track of the individual items as well as knowing that several of those items are instances of the same work. In another context the approach we had above might be fine, in this context it's not suitable. The Book class needs to be changed.\n",
    "\n",
    "It's very common when designing real systems to uncover problems like this during development, especially if new requirements are added.\n",
    "Don't panic!\n",
    "But do rewrite your code to make it better.\n",
    "Instead of a single class ``Book``, which we've now seen is ambiguous, we'll create a class for the piece of work and a class for the individual copy.\n",
    "The next cell also adds functionality for borrowing and returning a book."
   ]
  },
  {
   "cell_type": "code",
   "execution_count": null,
   "metadata": {},
   "outputs": [],
   "source": [
    "class LiteraryWork():\n",
    "    def __init__(self, title, author):\n",
    "        self.title = title\n",
    "        self.author = author\n",
    "\n",
    "class LibraryItem():\n",
    "    def __init__(self, work, location):\n",
    "        if not isinstance(work, LiteraryWork): # every library item must link to a specific work\n",
    "            raise Exception(\"expected parameter work to be instance of LiteraryWork.\")\n",
    "        self.work = work\n",
    "        self.location = location\n",
    "        self.available = True\n",
    "        \n",
    "    def borrowItem(self):\n",
    "        if not self.available: # check it's possible to borrow the item\n",
    "            raise Exception(\"Cannot borrow this item because it is unavailable.\")\n",
    "        self.available = False # show that the item is now not available\n",
    "    \n",
    "    \n",
    "    def returnItem(self):\n",
    "        self.available = True # this item is now available\n",
    "        \n",
    "class Library():\n",
    "    def __init__(self):\n",
    "        self.collection = []\n",
    "        \n",
    "    # when a new book is purchased this function is used to add it to the library\n",
    "    def addItem(self, item):\n",
    "        if not isinstance(item, LibraryItem):\n",
    "            raise Exception(\"expected parameter item to be instance of LibraryItem.\")\n",
    "        self.collection.append(item)\n",
    "        "
   ]
  },
  {
   "cell_type": "markdown",
   "metadata": {},
   "source": [
    "We've now distinguished between a book and an individual copy of a book.\n",
    "A new item is added to the library rather than incrementing the count of the number of copies within a book object.\n",
    "But now it's not especially easy to find out how many copies of some book the library holds.\n",
    "Also, although we've got some separation between a book and the copies of a book we haven't got a way to represent different editions or multiple works in a single physical book (for example, The Lord of the Rings trilogy has been printed both as separate physical books and as a single physical item).\n",
    "\n",
    "Another modification begins to deal with these issues.\n",
    "We will use a class PublishedWork that allows for different editions, making use of the ISBN, which is an identification number for books.\n",
    "Different editions and formats (paperback, hardback etc.) have different ISBNs.\n",
    "\n",
    "Also, instead of keeping a list of all the items in the library we can make a dictionary and use the ISBNs as keys.\n",
    "This will make it easier to say how many copies of each work are kept in the library."
   ]
  },
  {
   "cell_type": "code",
   "execution_count": null,
   "metadata": {},
   "outputs": [],
   "source": [
    "class PublishedWork():\n",
    "    def __init__(self, isbn, title, authors, edition, bookType):\n",
    "        self.isbn = isbn\n",
    "        self.title = title\n",
    "        self.authors = authors\n",
    "        self.edition = edition\n",
    "        self.bookType = bookType # hardback, audiobook etc.\n",
    "\n",
    "class LibraryItem():\n",
    "    def __init__(self, publishedWork, location):\n",
    "        if not isinstance(publishedWork, PublishedWork): # every library item must link to a specific work\n",
    "            raise Exception(\"expected parameter publishedWork to be instance of PublishedWork.\")\n",
    "        self.publishedWork = publishedWork\n",
    "        self.location = location\n",
    "        self.available = True\n",
    "        \n",
    "    def borrowItem(self):\n",
    "        if not self.available: # check it's possible to borrow the item\n",
    "            raise Exception(\"Cannot borrow this item because it is unavailable.\")\n",
    "        self.available = False # show that the item is now not available\n",
    "\n",
    "    def returnItem(self):\n",
    "        self.available = True # this item is now available\n",
    "\n",
    "class Library():\n",
    "    def __init__(self):\n",
    "        self.collection = {}\n",
    "        \n",
    "    # when a new book is purchased this function is used to add it to the library\n",
    "    def addItem(self, item):\n",
    "        if not isinstance(item, LibraryItem):\n",
    "            raise Exception(\"expected parameter item to be instance of LibraryItem.\")\n",
    "\n",
    "        # add item to the collection\n",
    "        isbn = item.publishedWork.isbn         # isbn is used as key\n",
    "        copies = self.collection.get(isbn)\n",
    "        if copies:                             # key already exists\n",
    "            copies.append(item)\n",
    "        else:\n",
    "            self.collection[isbn] = [item]     # create key\n",
    "            \n",
    "    def numberOfCopies(isbn):\n",
    "        copies = self.collection.get(isbn)\n",
    "        if copies is None:            \n",
    "            return 0           # key does not exist\n",
    "        return len(copies)     # length of list is number of copies of this isbn"
   ]
  },
  {
   "cell_type": "markdown",
   "metadata": {},
   "source": [
    "One more way to improve the `Published Work` class is a change to the `bookType` property.\n",
    "In the system we're modelling there's only a few valid values it can take. \n",
    "Python provides a special type of class called `Enum`.\n",
    "We can use this to create a class which just contains attributes specifying the possible types of item the library might hold.\n",
    "Now it is clear what values the `bookType` parameter should be allowed to take, and wherever we refer to a book type in the code we should use the `Format` class."
   ]
  },
  {
   "cell_type": "code",
   "execution_count": null,
   "metadata": {},
   "outputs": [],
   "source": [
    "from enum import Enum\n",
    "\n",
    "class Format(Enum):\n",
    "    PAPERBACK = 1\n",
    "    HARDBACK = 2\n",
    "    AUDIOBOOK = 3\n",
    "        \n",
    "grufFirstEd = PublishedWork(1234, 'The Gruffalo', 'Julia Donaldson', 1, Format.PAPERBACK)\n",
    "\n",
    "grufFirstEd.bookType"
   ]
  },
  {
   "cell_type": "markdown",
   "metadata": {},
   "source": [
    "## Exercise 2\n",
    "Having seen some ideas about how to write object oriented code try it yourself with a different example.\n",
    "In this exercise you will specify classes to model a vending machine and use what you write to simulate the vending machine being used.\n",
    "\n",
    "First, write a class to model an ``Item`` in the vending machine.\n",
    "Each item has a ``name``, a ``price`` and a measure of ``popularity``."
   ]
  },
  {
   "cell_type": "code",
   "execution_count": null,
   "metadata": {},
   "outputs": [],
   "source": []
  },
  {
   "cell_type": "markdown",
   "metadata": {},
   "source": [
    "Now we need an object to keep track of the number of each item in the machine. \n",
    "There's no need to have an object for each individual chocolate bar. \n",
    "In the library situation there was some value to keeping track of each individual copy of a book but in the case of the vending machine we really only need to know how many of each type of item we have.\n",
    "Create an object ``StockEntry`` which has an ``Item`` and a ``number``."
   ]
  },
  {
   "cell_type": "code",
   "execution_count": null,
   "metadata": {},
   "outputs": [],
   "source": []
  },
  {
   "cell_type": "markdown",
   "metadata": {},
   "source": [
    "Create a list ``STOCK`` of ``StockEntry``s to represent the following information:\n",
    "\n",
    "|Item|Price|Popularity|Number|\n",
    "|---|---|---|---|\n",
    "|Biscuits|45|0.02|50|\n",
    "|Crisps|25|0.06|30|\n",
    "|Drink|30|0.1|40|\n"
   ]
  },
  {
   "cell_type": "code",
   "execution_count": null,
   "metadata": {},
   "outputs": [],
   "source": []
  },
  {
   "cell_type": "markdown",
   "metadata": {},
   "source": [
    "Now we create the vending machine class.\n",
    "It should have an attribute ``stock``, which will hold a list of ``StockEntry`` objects (for example, the list ``STOCK``), and an attribute ``cash_taken``, which is initialised to 0 and records the amount of money spent at the vending machine so far.\n",
    "\n",
    "Complete the method ``purchase()``, which uses a random number generator and the popularity of each item to model whether a person passing the vending machine decides to buy any of the items. \n",
    "If a person decides to buy an item we need to \n",
    "- check that there is enough stock to allow the purchase to go ahead. If so\n",
    "    - print \"Customer buys\" and the item name\n",
    "    - update the number of items of the correct type\n",
    "    - update the amount of money taken by the vending machine\n",
    "- otherwise, print \"Customer can't buy\" and the item name."
   ]
  },
  {
   "cell_type": "code",
   "execution_count": null,
   "metadata": {},
   "outputs": [],
   "source": [
    "import random\n",
    "\n",
    "class VendingMachine:\n",
    "    # add __init__ method\n",
    "\n",
    "    def purchase(self):\n",
    "        attemptedPurchase = False\n",
    "        for entry in self.stock:\n",
    "            if random.random() < entry.item.popularity: # customer wants to purchase this item\n",
    "                attemptedPurchase = True\n",
    "                if # check that the desired purchase is possible\n",
    "                    \n",
    "                    # here we need to print a message that the customer made a purchase\n",
    "                    # update the number of items of this type that are still available\n",
    "                    # and update the amount of money taken by the vending machine\n",
    "\n",
    "                else:\n",
    "                    \n",
    "                    # here we need to print a message that the desired purchase was not possible\n",
    "                    \n",
    "        if not attemptedPurchase:\n",
    "            print(\"No purchase.\")\n",
    "        \n",
    "    def remainingStock(self):\n",
    "       # return a dictionary of remaining stock levels"
   ]
  },
  {
   "cell_type": "markdown",
   "metadata": {},
   "source": [
    "Finally, we create a simulator which, given a vending machine object and values for the footfall (probability of a person passing the machine) and a number of days can run a simulation of how many attempted and successful purchases are made. The simulator will record the number of people who pass by the machine.\n",
    "\n",
    "Add the ``__init__()`` method setting up instance attributes for ``machine``, an instance of VendingMachine, ``footfall``, ``days`` and ``passers`` (which should be initialised to 0).\n",
    "\n",
    "Complete the function ``simulate()``."
   ]
  },
  {
   "cell_type": "code",
   "execution_count": null,
   "metadata": {},
   "outputs": [],
   "source": [
    "class Simulator():\n",
    "    # add __init__ method\n",
    "\n",
    "    def simulate(self):\n",
    "        minutes = self.days * 24 * 60\n",
    "        for x in range(minutes):\n",
    "            if random.random() < self.footfall: # test whether someone passes the machine\n",
    "                # increment the number of passers\n",
    "                # attempt to make a purchase from the vending machine\n",
    "                \n",
    "# the simulation\n",
    "vm = VendingMachine(STOCK) # create a vending machine with stock\n",
    "sim = Simulator(vm, 0.1, 3) # set up the simulator\n",
    "sim.simulate() # run the simulator\n",
    "\n",
    "# summary of simulation\n",
    "print()\n",
    "print(\"Number of passers-by:\", sim.passers)\n",
    "print(\"Cash taken:\", vm.cash_taken)\n",
    "print(\"Remaining Stock\", vm.remainingStock())"
   ]
  },
  {
   "cell_type": "markdown",
   "metadata": {},
   "source": [
    "# Solutions to Exercises\n",
    "## 1"
   ]
  },
  {
   "cell_type": "code",
   "execution_count": null,
   "metadata": {},
   "outputs": [],
   "source": [
    "# allBooks1 is a lits of dictionaries\n",
    "authors1 = [x['author'] for x in allBooks1]\n",
    "authors1"
   ]
  },
  {
   "cell_type": "code",
   "execution_count": null,
   "metadata": {},
   "outputs": [],
   "source": [
    "# allBooks2 is a list of Book objects\n",
    "authors2 = [x.author for x in allBooks2]\n",
    "authors2"
   ]
  },
  {
   "cell_type": "markdown",
   "metadata": {},
   "source": [
    "## 2"
   ]
  },
  {
   "cell_type": "code",
   "execution_count": null,
   "metadata": {},
   "outputs": [],
   "source": [
    "class Item:\n",
    "    def __init__(self, name, cost, popularity):\n",
    "        self.name = name\n",
    "        self.cost = cost\n",
    "        self.popularity = popularity"
   ]
  },
  {
   "cell_type": "code",
   "execution_count": null,
   "metadata": {},
   "outputs": [],
   "source": [
    "class StockEntry:\n",
    "    def __init__(self, item, number ):\n",
    "        self.item = item\n",
    "        self.number = number"
   ]
  },
  {
   "cell_type": "code",
   "execution_count": null,
   "metadata": {},
   "outputs": [],
   "source": [
    "STOCK = [\n",
    "    StockEntry(Item( \"biscuits\", 45, 0.02 ), 50),\n",
    "    StockEntry(Item( \"crisps\",   25, 0.06), 30),\n",
    "    StockEntry(Item( \"drink\",    30, 0.1 ), 40)\n",
    "]"
   ]
  },
  {
   "cell_type": "code",
   "execution_count": null,
   "metadata": {},
   "outputs": [],
   "source": [
    "import random\n",
    "\n",
    "class VendingMachine:\n",
    "    def __init__(self, stock):\n",
    "        self.cash_taken = 0\n",
    "        self.stock = stock\n",
    "\n",
    "    def purchase(self):\n",
    "        purchase = False\n",
    "        for entry in self.stock:\n",
    "            if random.random() < entry.item.popularity:\n",
    "                purchase = True\n",
    "                if entry.number > 0:\n",
    "                    entry.number -= 1\n",
    "                    print(\"Customer buys {}.\".format(entry.item.name))\n",
    "                    self.cash_taken += entry.item.cost\n",
    "                else:\n",
    "                    print(\"Customer can't buy {}!\".format(entry.item.name))\n",
    "        if not purchase:\n",
    "            print(\"No purchase.\")\n",
    "        \n",
    "    def remainingStock(self):\n",
    "        return {entry.item.name: entry.number for entry in self.stock}         "
   ]
  },
  {
   "cell_type": "code",
   "execution_count": null,
   "metadata": {},
   "outputs": [],
   "source": [
    "class Simulator():\n",
    "    def __init__(self, machine, footfall, days):\n",
    "        if not isinstance(machine, VendingMachine):\n",
    "            raise Exception(\"Expected machine to be of type VendingMachine.\")\n",
    "        self.machine = machine\n",
    "        self.footfall = footfall\n",
    "        self.days = days\n",
    "        self.passers = 0\n",
    "\n",
    "    def simulate(self):\n",
    "        minutes = self.days * 24 * 60\n",
    "        for x in range(minutes):\n",
    "            if random.random() < self.footfall: # test whether someone passes machine\n",
    "                self.passers += 1\n",
    "                self.machine.purchase()\n",
    "                \n",
    "vm = VendingMachine(STOCK) \n",
    "sim = Simulator(vm, 0.1, 3)\n",
    "sim.simulate()\n",
    "print()\n",
    "print(\"Number of passers-by:\", sim.passers)\n",
    "print(\"Cash taken:\", vm.cash_taken)\n",
    "print(\"Remaining Stock\", vm.remainingStock())"
   ]
  }
 ],
 "metadata": {
  "kernelspec": {
   "display_name": "Python 3",
   "language": "python",
   "name": "python3"
  },
  "language_info": {
   "codemirror_mode": {
    "name": "ipython",
    "version": 3
   },
   "file_extension": ".py",
   "mimetype": "text/x-python",
   "name": "python",
   "nbconvert_exporter": "python",
   "pygments_lexer": "ipython3",
   "version": "3.9.0"
  }
 },
 "nbformat": 4,
 "nbformat_minor": 4
}
