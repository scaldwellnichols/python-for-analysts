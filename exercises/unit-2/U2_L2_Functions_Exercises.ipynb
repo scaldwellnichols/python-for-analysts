{
 "cells": [
  {
   "cell_type": "markdown",
   "metadata": {},
   "source": [
    "# Functions\n",
    "In this notebook we begin to break our code into functions. This makes the code easier to understand and allows us to reuse blocks of code easily (without copying and pasting!)."
   ]
  },
  {
   "cell_type": "markdown",
   "metadata": {},
   "source": [
    "### The Basics of Defining a Function\n",
    "In the next cell you can see a function and some code to call the function. \n",
    "The first line tells Python that we're going to define a new function with the ``def`` keyword, and it gives the name of the function and any parameters it will take.\n",
    "The second line is the body of the function, this is what the function actually does. \n",
    "Every line of the body of the function must be indented, this is how Python knows that the line belongs to the function and not to the main code.\n",
    "And the final line (which is not indented) uses the name of the function to tell Python it should run the body of the function called ``sayHello`` with the parameter ``name`` replaced by the argument 'Brandon'.\n",
    "Run the cell, try replacing 'Brandon' with your own name and run the cell again. "
   ]
  },
  {
   "cell_type": "code",
   "execution_count": null,
   "metadata": {},
   "outputs": [],
   "source": [
    "def sayHello(name):\n",
    "    print('Hello ', name)\n",
    "    \n",
    "sayHello('Brandon')"
   ]
  },
  {
   "cell_type": "markdown",
   "metadata": {},
   "source": [
    "What happens if we define a function but don't call it? (try commenting out the final line in the cell above and run it again)\n",
    "Nothing much. \n",
    "The code in the function is ready to be used but we haven't told Python to execute it yet.\n",
    "What about if we change the order around, as in the next cell?\n",
    "This will cause an error. \n",
    "When Python reaches the instruction to run the function ``sayGoodbye`` it hasn't yet defined a function with that name so it doesn't understand what code it's supposed to be running.\n",
    "Functions must be defined before they are called."
   ]
  },
  {
   "cell_type": "code",
   "execution_count": null,
   "metadata": {},
   "outputs": [],
   "source": [
    "sayGoodbye('Brandon')\n",
    "\n",
    "def sayGoodbye(name):\n",
    "    print('Goodbye ', name)"
   ]
  },
  {
   "cell_type": "markdown",
   "metadata": {},
   "source": [
    "## The Return Statement\n",
    "As well as doing things within a function we often want to return a value to the calling code.\n",
    "This is done with the ``return`` keyword."
   ]
  },
  {
   "cell_type": "code",
   "execution_count": null,
   "metadata": {},
   "outputs": [],
   "source": [
    "def volumeOfCube(lengthOfEdge):\n",
    "    # the length of the edge cubed\n",
    "    vol = pow(lengthOfEdge,3)\n",
    "    return vol\n",
    "\n",
    "volume = volumeOfCube(5)\n",
    "print(\"Volume is {}\".format(volume))"
   ]
  },
  {
   "cell_type": "markdown",
   "metadata": {},
   "source": [
    "In this case the function returns a number, therefore the piece of code that calls the function ``volumeOfCube(5)`` can be treated exactly like you would treat a number (we've seen this already with built-in functions, and it's the same with your own functions).\n",
    "Above we assigned the result of calling the function to a variable and then printed it out, but instead we could have used it in some aritmetic or compared it to another number or even passed it as a value to another function.\n",
    "Functions can return any kind of object. \n",
    "Python is very flexible about types so you're not required to explicitly say what type of value is returned or what type any parameters should have. \n",
    "However, this means the responsibility is entirely with you as the programmer to use the returned values appropriately.\n",
    "\n",
    "A function can only return once for each time it's called, as soon as a ``return`` statement is reached Python stops executing the function code and returns to the calling code.\n",
    "You can have multiple return statements which will be executed in different scenarios.\n",
    "\n",
    "Also, to make code more concise we can combine the final two lines of the function."
   ]
  },
  {
   "cell_type": "code",
   "execution_count": null,
   "metadata": {},
   "outputs": [],
   "source": [
    "def volumeOfCube(lengthOfEdge):\n",
    "    # can't have a negative edge length\n",
    "    if lengthOfEdge < 0:\n",
    "        # returning False indicates this was a bad input\n",
    "        # there are better ways of handling bad inputs in real code...\n",
    "        return False\n",
    "    \n",
    "    # the length of the edge cubed\n",
    "    return pow(lengthOfEdge, 3)\n",
    "\n",
    "volumeOfCube(-2)"
   ]
  },
  {
   "cell_type": "markdown",
   "metadata": {},
   "source": [
    "Functions give us a way to abstract what we're doing. \n",
    "For example, calculating the volume of a cube is a special case of calculating the volume of a cuboid, which is a special case of calculating the volume of a prism."
   ]
  },
  {
   "cell_type": "code",
   "execution_count": null,
   "metadata": {},
   "outputs": [],
   "source": [
    "def volumeOfPrism(baseArea, height):\n",
    "    return baseArea * height\n",
    "\n",
    "def areaOfRectangle(l1, l2):\n",
    "    return l1 * l2\n",
    "    \n",
    "def volumeOfCuboid(l1, l2, l3):\n",
    "    baseArea = areaOfRectangle(l1, l2)\n",
    "    vol = volumeOfPrism(baseArea, l3)\n",
    "    return vol\n",
    "\n",
    "def volumeOfCube(lengthOfEdge):\n",
    "    return volumeOfCuboid(lengthOfEdge, lengthOfEdge, lengthOfEdge)\n",
    "    \n",
    "volumeOfCube(5)"
   ]
  },
  {
   "cell_type": "markdown",
   "metadata": {},
   "source": [
    "Returning multiple values is easy, Python packs the values into a tuple and will also unpack the tuple to assign the return values to multiple variables."
   ]
  },
  {
   "cell_type": "code",
   "execution_count": null,
   "metadata": {},
   "outputs": [],
   "source": [
    "def getSumAndLength(listOfInts):\n",
    "    return sum(listOfInts), len(listOfInts)\n",
    "\n",
    "# function returns two values which are assigned to two variables\n",
    "s, l = getSumAndLength([1, 2, 3])\n",
    "\n",
    "print('sum of numbers = {}'.format(s))\n",
    "print('length of list = {}'.format(l))"
   ]
  },
  {
   "cell_type": "markdown",
   "metadata": {},
   "source": [
    "## Exercise 1\n",
    "Suppose you've been given name and address information from a database.\n",
    "Create functions to format this information so that it can be printed onto address labels.\n",
    "For example, the entry \n",
    "\n",
    "```['Mrs', 'Joan', 'Smith', '3 Huntsmans Avenue', 'Batley', 'WF17 3RW']```\n",
    "\n",
    "should print as \n",
    "\n",
    "Mrs J. Smith  \n",
    "3 Huntsmans Avenue  \n",
    "Batley  \n",
    "WF17 3RW  "
   ]
  },
  {
   "cell_type": "code",
   "execution_count": null,
   "metadata": {},
   "outputs": [],
   "source": [
    "mailingList = [\n",
    "    ['title', 'fname', 'sname', 'addr1', 'addr2', 'postcode'],\n",
    "    ['Mrs', 'Joan', 'Smith', '3 Huntsmans Avenue', 'Batley', 'WF17 3RW'],\n",
    "    ['Mr', 'Fred', 'Jones', '15a Brighton Road', 'Wyke', 'BD6 4NN'],\n",
    "    ['Dr', 'Maria', 'Tan', '122 High Street', 'Ilkley', 'LS29 2AD']\n",
    "]\n",
    "\n",
    "def prettyPrintAddressLabels(recipients):\n",
    "    for i, record in enumerate(recipients):\n",
    "        # format the entry\n",
    "        \n",
    "    # return a list of formatted entries\n",
    "    return \n",
    "\n",
    "prettyPrintAddressLabels(mailingList)"
   ]
  },
  {
   "cell_type": "markdown",
   "metadata": {},
   "source": [
    "## Parameters\n",
    "A function does not need to have any parameters. \n",
    "It can have any number of parameters.\n",
    "A function can also have parameters which are optional -- the calling code can choose whether to supply values for them or not. \n",
    "In this case a default value is given in the function definiton. "
   ]
  },
  {
   "cell_type": "code",
   "execution_count": null,
   "metadata": {},
   "outputs": [],
   "source": [
    "def sayHelloToSomeone(name = 'mystery person'):\n",
    "    print('Hello '+ name)\n",
    "\n",
    "# call function with a parameter -- this becomes the value of name\n",
    "sayHelloToSomeone('Fred')\n",
    "\n",
    "# call function with no parameter -- name uses the default value specified in the function definition\n",
    "sayHelloToSomeone()"
   ]
  },
  {
   "cell_type": "markdown",
   "metadata": {},
   "source": [
    "Arguments can be supplied to a function based on their position in the function definition or as a keyword argument based on the name of the parameter. "
   ]
  },
  {
   "cell_type": "code",
   "execution_count": null,
   "metadata": {},
   "outputs": [],
   "source": [
    "def isBigger(a, b):\n",
    "    print(a > b)\n",
    "\n",
    "isBigger(5, 2)\n",
    "isBigger(b=5, a=2)"
   ]
  },
  {
   "cell_type": "markdown",
   "metadata": {},
   "source": [
    "A function can have a variable number of parameters by using the * operator to pack the arguments into a tuple. \n",
    "The built in ``print()`` function is an example of a function which allows arbitrarily many parameters.\n",
    "Here is an example of a newly defined function that can accept a variable number of arguments. "
   ]
  },
  {
   "cell_type": "code",
   "execution_count": null,
   "metadata": {},
   "outputs": [],
   "source": [
    "def mean(*args):\n",
    "    return sum(args) / len(args)\n",
    "\n",
    "mean(3, 4, 5, 6, 7)"
   ]
  },
  {
   "cell_type": "markdown",
   "metadata": {},
   "source": [
    "The * operator can also be used to unpack arguments from a list or tuple. "
   ]
  },
  {
   "cell_type": "code",
   "execution_count": null,
   "metadata": {},
   "outputs": [],
   "source": [
    "def f(a, b, c):\n",
    "    return a * b - c\n",
    "    \n",
    "listOfInts = [7, 3, 2]\n",
    "f(*listOfInts)"
   ]
  },
  {
   "cell_type": "markdown",
   "metadata": {},
   "source": [
    "Use the double star operator ** in a similar way with dictionaries."
   ]
  },
  {
   "cell_type": "code",
   "execution_count": null,
   "metadata": {},
   "outputs": [],
   "source": [
    "def displayKeywordArguments(**kwargs):\n",
    "    for key, value in kwargs.items():\n",
    "        print(key, value, sep=': ')\n",
    "        \n",
    "displayKeywordArguments(a=1, b=2, c=3, d=4)"
   ]
  },
  {
   "cell_type": "code",
   "execution_count": null,
   "metadata": {},
   "outputs": [],
   "source": [
    "def f(a, b, c):\n",
    "    print('a = {}'.format(a))\n",
    "    print('b = {}'.format(b))\n",
    "    print('c = {}'.format(c))\n",
    "    \n",
    "dictionaryOfArguments = {\n",
    "    'b': 2,\n",
    "    'a': 1,\n",
    "    'c': 3\n",
    "}\n",
    "\n",
    "f(**dictionaryOfArguments)"
   ]
  },
  {
   "cell_type": "markdown",
   "metadata": {},
   "source": [
    "## Exercise 2\n",
    "A pizza restaurant wants to make their kitchen more efficient.\n",
    "They intend to have one chef responsible for making all the bases, another chopping items for the toppings, another preparing the cheese. \n",
    "Then the head chef can easily assemble all the parts and put the pizza in the oven.\n",
    "\n",
    "To make this happen the restaurant requires a system that processes each order and updates a job list for each worker. \n",
    "When a pizza is ordered the required base, cheese and toppings are added to dictionaries which tell the different chefs what they need to prepare.\n",
    "For example, if a pizza is ordered with mushrooms for the topping then the value of 'mushrooms' in the toppings dictionary should be increased by one.\n",
    "\n",
    "A base type must always be specified, the cheese type should default to Mozarella but there is a gluten free option.\n",
    "Any number of additional toppings can then be requested, including zero.\n",
    "Create a function which fulfils these requirements and updates the dictionaries shown below when a pizza is ordered. \n",
    "\n",
    "You can assume that the inputs are always valid, but if you want an extra challenge then think about how you could check for errors (e.g. trying to order a topping which is not available).\n",
    "\n",
    "Check that your function works by calling it with a couple of different pizza orders and printing out the dictionaries. "
   ]
  },
  {
   "cell_type": "code",
   "execution_count": null,
   "metadata": {},
   "outputs": [],
   "source": [
    "toppings = {\n",
    "    'pepperoni': 0,\n",
    "    'olives': 0,\n",
    "    'red_peppers': 0,\n",
    "    'green_peppers': 0,\n",
    "    'mushrooms': 0,\n",
    "    'chicken': 0,\n",
    "    'stilton': 0,\n",
    "    'ricotta': 0,\n",
    "}\n",
    "\n",
    "bases = {\n",
    "    'thin': 0,\n",
    "    'deep_pan': 0,\n",
    "    'gluten_free': 0\n",
    "}\n",
    "\n",
    "cheese = {\n",
    "    'mozzarella': 0,\n",
    "    'dairy_free': 0\n",
    "}\n"
   ]
  },
  {
   "cell_type": "markdown",
   "metadata": {},
   "source": [
    "## Exercise 3\n",
    "\n",
    "A similar scenario to exercise 1, now the task is to send a message to a list of customers.\n",
    "This time there is already some working code but it's a bit messy and the previous developer left some 'TODO' notes where things need to be improved. \n",
    "Split the code up into functions, make sure to give your functions and any parameters informative names. \n",
    "Remember to comment your code as well so it's easily understood by the next developer.\n",
    "Look into the 'TODO' notes and try to resolve some or all of them.\n",
    "In real life the letters would likely be output to a file. \n",
    "That's beyond the scope of this lesson so our function will just print to the screen.\n",
    "\n",
    "There is a TODO note 'how to automatically generate today's date??'.\n",
    "If you would like an extra challenge then search online and in the Python documentation to find out how this can be achieved.\n",
    "You can use the **datetime** module.\n",
    "datetime.datetime.now() gets the current date.\n",
    "``strftime()`` is a function for formatting dates, you'll need to look up how it works.\n",
    "However, the main focus of this exercise is to practice making functions so it's completely optional whether you also want to find out about dates in Python."
   ]
  },
  {
   "cell_type": "code",
   "execution_count": null,
   "metadata": {},
   "outputs": [],
   "source": [
    "peopleList = [\n",
    "    ['Mrs', 'Amy', 'Lee', '3 Leeds Road', 'Bradford', 'BD22 3DS'],\n",
    "    ['Mr', 'Steve', 'Singh', '4 Bradford Road', 'Leeds', 'LS11 4EW']\n",
    "]\n",
    "\n",
    "exampleMessage = 'Thank you for being a valued customer.'\n",
    "\n",
    "exampleSender = ('', 'Fname', 'Sname')\n",
    "\n",
    "def prepareAndPrint(people, message, sender, includeDate = False):\n",
    "    fromInitial = sender[1][0] + '.'\n",
    "    # is there a title? \n",
    "    # TODO: is it really necessary to check?\n",
    "    if sender[0]  == '':\n",
    "        # initial, surname\n",
    "        fromName = fromInitial + ' ' + sender[2]\n",
    "    else:\n",
    "        # title, initial, surname\n",
    "        fromName = sender[0] + ' ' + fromInitial + ' ' + sender[2]\n",
    "\n",
    "    for p in people:\n",
    "        toInitial = p[1][0] + '.'\n",
    "        # TODO: what if there's no title? Spacing might be wrong? Need to test.\n",
    "        # title, initial, surname\n",
    "        toName = ' '.join([p[0], toInitial, p[2]])\n",
    "\n",
    "        address = '\\n'.join([toName, p[3], p[4], p[5]])\n",
    "        \n",
    "        # send -- in real life this would be output to a file or sent as email\n",
    "        # That's beyond the scope of this lesson\n",
    "        # so for now we just print to the screen with an extra line to separate each letter.\n",
    "        print(address+'\\n')\n",
    "        if includeDate:\n",
    "            # TODO: how to automatically generate today's date??\n",
    "            print('10 December 2020\\n')\n",
    "        print('Dear', toName +',\\n')\n",
    "        print('\\t'+message+'\\n')\n",
    "        # TODO: could make signoff more flexible e.g. might want Yours Truly or Yours Faithfully\n",
    "        print('Yours Sincerely,')\n",
    "        print(fromName)\n",
    "        print('\\n---letter ends---\\n')\n",
    "\n",
    "prepareAndPrint(peopleList, exampleMessage, exampleSender, True)"
   ]
  },
  {
   "cell_type": "markdown",
   "metadata": {},
   "source": [
    "# Solutions to Exercises\n",
    "## 1"
   ]
  },
  {
   "cell_type": "code",
   "execution_count": null,
   "metadata": {},
   "outputs": [],
   "source": [
    "mailingList = [\n",
    "    ['title', 'fname', 'sname', 'addr1', 'addr2', 'postcode'],\n",
    "    ['Mrs', 'Joan', 'Smith', '3 Huntsmans Avenue', 'Batley', 'WF17 3RW'],\n",
    "    ['Mr', 'Fred', 'Jones', '15a Brighton Road', 'Wyke', 'BD6 4NN'],\n",
    "    ['Dr', 'Maria', 'Tan', '122 High Street', 'Ilkley', 'LS29 2AD']\n",
    "]\n",
    "\n",
    "def prettyPrintName(title, firstName, lastName):\n",
    "    initial = firstName[0] + '.'\n",
    "    return title + ' ' + initial + ' ' + lastName\n",
    "\n",
    "def prettyPrintAddress(street, town, postcode):\n",
    "    # \\n for new line\n",
    "    return street + '\\n' + town + '\\n' + postcode\n",
    "    \n",
    "\n",
    "def prettyPrintAddressLabels(recipients):\n",
    "    # remove the header line\n",
    "    recipients = recipients[1:]\n",
    "\n",
    "    # initialise list of results to be returned\n",
    "    formattedRecipients = []    \n",
    "    for i, record in enumerate(recipients):\n",
    "        name = prettyPrintName(record[0], record[1], record[2])\n",
    "        address = prettyPrintAddress(record[3], record[4], record[5])\n",
    "        formattedRecipients.append(name + '\\n' + address)\n",
    "    return formattedRecipients\n",
    "        \n",
    "\n",
    "# the function prettyPrintAddressLabels returns a list\n",
    "# so we can use a loop to iterate over it\n",
    "for item in prettyPrintAddressLabels(mailingList):\n",
    "    print(item)\n",
    "    print('\\n')"
   ]
  },
  {
   "cell_type": "markdown",
   "metadata": {},
   "source": [
    "## 2"
   ]
  },
  {
   "cell_type": "code",
   "execution_count": null,
   "metadata": {},
   "outputs": [],
   "source": [
    "toppings = {\n",
    "    'pepperoni': 0,\n",
    "    'olives': 0,\n",
    "    'red_peppers': 0,\n",
    "    'green_peppers': 0,\n",
    "    'mushrooms': 0,\n",
    "    'chicken': 0,\n",
    "    'stilton': 0,\n",
    "    'ricotta': 0,\n",
    "}\n",
    "\n",
    "bases = {\n",
    "    'thin': 0,\n",
    "    'deep_pan': 0,\n",
    "    'gluten_free': 0\n",
    "}\n",
    "\n",
    "cheese = {\n",
    "    'mozzarella': 0,\n",
    "    'dairy_free': 0\n",
    "}\n",
    "\n",
    "# required parameter must be first and optional parameter last.\n",
    "# as a result, the optional parameter must be passed in as a keyword argument. \n",
    "def orderPizza(baseType, *toppingTypes, cheeseType = 'mozzarella'):\n",
    "    # order toppings\n",
    "    for top in toppingTypes:\n",
    "        toppings[top] += 1\n",
    "        \n",
    "    # order base\n",
    "    bases[baseType] += 1\n",
    "    \n",
    "    # order cheese\n",
    "    cheese[cheeseType] += 1\n",
    "    \n",
    "\n",
    "orderPizza('thin', 'mushrooms', 'chicken', 'ricotta', cheeseType = 'dairy_free')\n",
    "orderPizza('deep_pan', 'pepperoni', 'green_peppers')\n",
    "\n",
    "print(toppings)\n",
    "print(bases)\n",
    "print(cheese)"
   ]
  },
  {
   "cell_type": "markdown",
   "metadata": {},
   "source": [
    "## 3\n",
    "\n",
    "This is an example solution."
   ]
  },
  {
   "cell_type": "code",
   "execution_count": null,
   "metadata": {},
   "outputs": [],
   "source": [
    "from datetime import datetime as dt\n",
    "\n",
    "peopleList = [\n",
    "    ['Mrs', 'Amy', 'Lee', '3 Leeds Road', 'Bradford', 'BD22 3DS'],\n",
    "    ['Mr', 'Steve', 'Singh', '4 Bradford Road', 'Leeds', 'LS11 4EW']\n",
    "]\n",
    "\n",
    "exampleMessage = 'I hope this finds you well.'\n",
    "\n",
    "exampleSender = ('', 'Fname', 'Sname')\n",
    "\n",
    "def formatName(firstName, lastName, title = ''):\n",
    "    initial = firstName[0]+'.'\n",
    "    if title  == '':\n",
    "        return initial + ' ' + lastName\n",
    "    return ' '.join([title, initial, lastName])\n",
    "\n",
    "def formatAddress(name, street, town, postcode):\n",
    "    return '\\n'.join([name, street, town, postcode])\n",
    "\n",
    "def formatGreeting(name):\n",
    "    return 'Dear ' + name + ',\\n'\n",
    "\n",
    "def formatEnding(name, signoff = 'Sincerely'):\n",
    "    return 'Yours ' + signoff + ',\\n' + name\n",
    "\n",
    "def formatDate():\n",
    "    # get today's date\n",
    "    now = dt.now()\n",
    "    # format the date to dd Month YYYY\n",
    "    return now.strftime('%d %B %Y')\n",
    "\n",
    "def generateLetter(address, body, includeDate = False):\n",
    "    # this function would be responsible for outputting the letter to a file\n",
    "    print(address+'\\n')\n",
    "    if includeDate:\n",
    "        print(formatDate()+'\\n')\n",
    "    print(body)\n",
    "    print('\\n---letter ends---\\n')\n",
    "\n",
    "def prepareBody(to, message, sender, signoff = 'Sincerely'):\n",
    "    # this function formats the contents of a letter.\n",
    "    body = formatGreeting(to)+'\\n'\n",
    "    body += '\\t' + message + '\\n\\n'\n",
    "    body += formatEnding(sender, signoff)\n",
    "    return body\n",
    "\n",
    "def prepareAndPrint(recipients, message, sender, includeDate = False):\n",
    "    fromName = formatName(*sender[1:3], sender[0])\n",
    "    \n",
    "    for customerData in recipients:\n",
    "        toName = formatName(*customerData[1:3], customerData[0])\n",
    "        customerAddress = formatAddress(toName, *customerData[3:])\n",
    "        messageBody = prepareBody(toName, message, fromName)\n",
    "        generateLetter(customerAddress, messageBody, includeDate)\n",
    "\n",
    "prepareAndPrint(peopleList, exampleMessage, exampleSender, True)"
   ]
  }
 ],
 "metadata": {
  "kernelspec": {
   "display_name": "Python 3",
   "language": "python",
   "name": "python3"
  },
  "language_info": {
   "codemirror_mode": {
    "name": "ipython",
    "version": 3
   },
   "file_extension": ".py",
   "mimetype": "text/x-python",
   "name": "python",
   "nbconvert_exporter": "python",
   "pygments_lexer": "ipython3",
   "version": "3.9.0"
  }
 },
 "nbformat": 4,
 "nbformat_minor": 4
}
