{
 "cells": [
  {
   "cell_type": "markdown",
   "metadata": {},
   "source": [
    "## Creating and Writing to a File\n",
    "This example shows how to create a new text file using the ``open()`` function in write mode (w)."
   ]
  },
  {
   "cell_type": "code",
   "execution_count": null,
   "metadata": {},
   "outputs": [],
   "source": [
    "f = open('my_example_file.txt', 'w')\n",
    "f.write('This is my new file.\\n')\n",
    "f.close()"
   ]
  },
  {
   "cell_type": "markdown",
   "metadata": {},
   "source": [
    "Assuming that a file with the given name did not already exist then the above commands cause the file to be created.\n",
    "(If the file did already exist then any data it contained would be overwritten).\n",
    "Look in the folder that this workbook is saved in. \n",
    "It should now contain a text file called 'my_example_file.txt' which you can open with a text editor.\n",
    "Now we can use the same code but with a different sentence to see how the file is modified."
   ]
  },
  {
   "cell_type": "code",
   "execution_count": null,
   "metadata": {},
   "outputs": [],
   "source": [
    "f = open('my_example_file.txt', 'w')\n",
    "f.write('Here is some different text for my file.\\n')\n",
    "f.close()"
   ]
  },
  {
   "cell_type": "markdown",
   "metadata": {},
   "source": [
    "Open the file again in your text editor (close it and reopen it) and you will find that the original sentence 'This is my new file.' has disappeared, it has been replaced by the new sentence.\n",
    "\n",
    "Instead of completely overwriting a file we can add to the end of it using the append mode (a)."
   ]
  },
  {
   "cell_type": "code",
   "execution_count": null,
   "metadata": {},
   "outputs": [],
   "source": [
    "f = open('my_example_file.txt', 'a')\n",
    "f.write('Another line of nonsense.\\n')\n",
    "f.close()"
   ]
  },
  {
   "cell_type": "markdown",
   "metadata": {},
   "source": [
    "Reopen the file again in your text editor and you will see that the sentence 'Here is some different text for my file.' is still there but a second line of text has also appeared.\n",
    "\n",
    "Using write mode means that if the file already exists then its old data is deleted. \n",
    "This might not be desirable.\n",
    "The exclusive creation mode (x) also creates a new file and opens it for writing, but it will cause an error if a file with the given name already exists.\n",
    "Therefore we can't accidentally overwrite existing data."
   ]
  },
  {
   "cell_type": "code",
   "execution_count": null,
   "metadata": {},
   "outputs": [],
   "source": [
    "# causes an error because this file already exists\n",
    "f = open('my_example_file.txt', 'x')"
   ]
  },
  {
   "cell_type": "code",
   "execution_count": null,
   "metadata": {},
   "outputs": [],
   "source": [
    "# creates a new file and adds a line of text\n",
    "f = open('my_example_file_2.txt', 'x')\n",
    "f.write('This is my new file.\\n')\n",
    "f.close()"
   ]
  },
  {
   "cell_type": "markdown",
   "metadata": {},
   "source": [
    "## Reading from a File\n",
    "Getting data out of a file can be achieved in a similar way, just use read mode (r).\n",
    "The function ``read()`` simply reads the whole file in one go and returns it as a single string which can be assigned to a variable or printed or modified with any of the usual string functions. \n",
    "Don't forget to close the file!"
   ]
  },
  {
   "cell_type": "code",
   "execution_count": null,
   "metadata": {},
   "outputs": [],
   "source": [
    "f = open('my_example_file.txt', 'r')\n",
    "l = f.read()\n",
    "print(l)\n",
    "print(type(l))\n",
    "f.close()"
   ]
  },
  {
   "cell_type": "markdown",
   "metadata": {},
   "source": [
    "Note that modifying the string which has been read from the file does not modify the contents of the file itself."
   ]
  },
  {
   "cell_type": "code",
   "execution_count": null,
   "metadata": {},
   "outputs": [],
   "source": [
    "f = open('my_example_file.txt', 'r')\n",
    "# extract the contents of the file as a string\n",
    "l = f.read()\n",
    "# modify the string and print the modified version\n",
    "l = l.replace('e', '*')\n",
    "print(l)\n",
    "f.close()"
   ]
  },
  {
   "cell_type": "code",
   "execution_count": null,
   "metadata": {},
   "outputs": [],
   "source": [
    "# open the same file again and print out the contents -- see that this has not been changed.\n",
    "f = open('my_example_file.txt', 'r')\n",
    "l = f.read()\n",
    "print(l)\n",
    "f.close()"
   ]
  },
  {
   "cell_type": "markdown",
   "metadata": {},
   "source": [
    "As well as the function ``read()`` we can use ``readline()`` to get a single line from the file. \n",
    "This allows us to iterate through a text file.\n",
    "When the end of the file has been reached ``readline()`` returns the empty string.\n",
    "This is used in the following example to determine when the ``while`` loop should terminate."
   ]
  },
  {
   "cell_type": "code",
   "execution_count": null,
   "metadata": {},
   "outputs": [],
   "source": [
    "f = open('my_example_file.txt', 'r')\n",
    "l = f.readline()\n",
    "lineNumber = 1\n",
    "while l != '':\n",
    "    print('line {}: {}'.format(lineNumber, l))\n",
    "    l = f.readline()\n",
    "    lineNumber += 1\n",
    "f.close()"
   ]
  },
  {
   "cell_type": "markdown",
   "metadata": {},
   "source": [
    "To get all the lines as a list use ``readlines()``."
   ]
  },
  {
   "cell_type": "code",
   "execution_count": null,
   "metadata": {},
   "outputs": [],
   "source": [
    "# does the same as the previous cell but using readlines() and iterating through the list\n",
    "f = open('my_example_file.txt', 'r')\n",
    "allLines = f.readlines()\n",
    "for i, line in enumerate(allLines):\n",
    "    print('line {}: {}'.format(i+1, line))\n",
    "f.close()"
   ]
  },
  {
   "cell_type": "markdown",
   "metadata": {},
   "source": [
    "## With open()\n",
    "It's a pain having to remember to close a file.\n",
    "There is a really nice solution to this in Python, as demonstrated in the following example."
   ]
  },
  {
   "cell_type": "code",
   "execution_count": null,
   "metadata": {},
   "outputs": [],
   "source": [
    "with open('my_example_file.txt', 'r') as f:\n",
    "    l = f.read()\n",
    "print(l)"
   ]
  },
  {
   "cell_type": "markdown",
   "metadata": {},
   "source": [
    "We're still using the ``open()`` function, and it still creates a file object which is assigned to the variable f.\n",
    "This time, because we're using the ``with`` syntax, Python will automatically close the file when the indentation is reduced (i.e. at the third line in the example).\n",
    "We can see that the file has been closed because if we try to use the file object to make more changes it creates an error, as in the following cell."
   ]
  },
  {
   "cell_type": "code",
   "execution_count": null,
   "metadata": {},
   "outputs": [],
   "source": [
    "with open('my_example_file.txt', 'r') as f:\n",
    "    # file is open here and can be read\n",
    "    l = f.read()\n",
    "\n",
    "# the variable l can be used here \n",
    "print(l)\n",
    "\n",
    "# now that the indentation has been reduced the file object f is no longer available\n",
    "# trying to read f now causes an error\n",
    "f.read()"
   ]
  },
  {
   "cell_type": "markdown",
   "metadata": {},
   "source": [
    "It is generally considered good practice to use ``with open()`` instead of just ``open()`` and having to remember to close the file yourself.\n",
    "In most cases it is better to use the ``with open()`` syntax.\n",
    "You can still use all the same functions on the file object as demonstrated above (read, write, readline etc.) as long as the code follows the line that opens the file and is indented. \n",
    "To access the file later simply open it again using the same syntax."
   ]
  },
  {
   "cell_type": "markdown",
   "metadata": {},
   "source": [
    "## Exercise 1\n",
    "There's something wrong with the following code.\n",
    "It is meant to write a file saying \n",
    "\n",
    "1 squared is 1  \n",
    "2 squared is 4  \n",
    "3 squared is 9  \n",
    "...\n",
    "\n",
    "but in fact it just creates an empty file. \n",
    "What's missing? Fix it."
   ]
  },
  {
   "cell_type": "code",
   "execution_count": null,
   "metadata": {},
   "outputs": [],
   "source": [
    "with open('squares.txt', 'a') as squares_file:\n",
    "    for k in range( 1, 11 ):\n",
    "        sq = k*k\n",
    "        output_string = \"{} squared is {} \\n\".format(k, sq) "
   ]
  },
  {
   "cell_type": "markdown",
   "metadata": {},
   "source": [
    "## Exercise 2\n",
    "Create a function which takes as input the name of a text file and returns some simple data about the file: the number of characters, words and lines it contains. \n",
    "\n",
    "The following cell gives a start.\n",
    "\n",
    "Test your function on your own text file (something short enough that you know how many characters and words and lines it contains to make sure your function is doing what you expect!!) and then use it for the file 'a_tale_of_two_cities.txt', which you should have downloaded from the course website and put into the same directory as this notebook."
   ]
  },
  {
   "cell_type": "code",
   "execution_count": null,
   "metadata": {},
   "outputs": [],
   "source": [
    "def file_size_info(filename):\n",
    "    with open(filename) as f:\n",
    "         # your code here...\n",
    "\n",
    "\n",
    "    num_chars = \n",
    "\n",
    "    num_lines = \n",
    "  \n",
    "    num_words = \n",
    "\n",
    "    # print the results\n",
    "    print(\"The file '{}' contains:\".format(filename))\n",
    "    print(\"{:>6} characters\".format(num_chars))\n",
    "    print(\"{:>6} words\".format(num_words))\n",
    "    print(\"{:>6} lines\".format(num_lines))\n",
    "\n",
    "# use the function\n",
    "file_size_info('a_tale_of_two_cities.txt')"
   ]
  },
  {
   "cell_type": "markdown",
   "metadata": {},
   "source": [
    "## Exercise 3\n",
    "In this exercise you need to read a file, use the data within it, and write another file.\n",
    "\n",
    "The file names.csv contains structured data.\n",
    "You should have downloaded this file from the course website and put it into the same directory as this notebook.\n",
    "\n",
    "Each line is in the form\n",
    "\n",
    "**person_id, first_name, last_name**.\n",
    "\n",
    "For each of these people create an email address of the form \n",
    "\n",
    "**first_name . last_name @ mybusiness . com**.\n",
    "\n",
    "Write a new csv file which contains a line for each person of the form\n",
    "\n",
    "**person_id, email_address**.\n",
    "\n",
    "Bonus feature: If there are two entries with the same first and last names then they should not be forced to share an email address!! Modify your function to ensure that every user gets a unique email address. You could add a number to the standard format when required, e.g.\n",
    "john.smith@mybusiness.com, john.smith2@mybusiness.com, john.smith3@mybusiness.com.\n"
   ]
  },
  {
   "cell_type": "code",
   "execution_count": null,
   "metadata": {},
   "outputs": [],
   "source": []
  },
  {
   "cell_type": "markdown",
   "metadata": {},
   "source": [
    "## CSV Library\n",
    "\n",
    "Python provides functions especially for working with CSV files. \n",
    "This module uses the special structure of a CSV file when reading the data in and automatically breaks each line either into a list of items or into a dictionary.\n",
    "In the case that the data is read into a dictionary the keys are taken from the first line of the csv file, which is assumed to be a header line.\n",
    "\n",
    "First we'll look at reading the data into a list. \n",
    "The following two cells both read the first 10 lines of the names.csv file from exercise 3.\n",
    "Each line is then split into a list based on the comma marking the separation of different fields. \n",
    "The two pieces of code do the same thing.\n",
    "\n",
    "When using the CSV library we create a CSV reader using the ``reader()`` function.\n",
    "This is given the file object and has many optional parameters, most importantly we should specify what delimiter our file uses (a comma, in this case). "
   ]
  },
  {
   "cell_type": "code",
   "execution_count": null,
   "metadata": {},
   "outputs": [],
   "source": [
    "with open('names.csv', 'r') as f:\n",
    "    row = f.readline()\n",
    "    i = 0\n",
    "    while row != '':\n",
    "        datalist = row.replace('\\n','').split(',')\n",
    "        print(datalist)\n",
    "        row = f.readline()\n",
    "        \n",
    "        i += 1\n",
    "        if i == 10:\n",
    "            break"
   ]
  },
  {
   "cell_type": "code",
   "execution_count": null,
   "metadata": {},
   "outputs": [],
   "source": [
    "# first we need to import the csv library so it is available for everything that follows. \n",
    "import csv"
   ]
  },
  {
   "cell_type": "code",
   "execution_count": null,
   "metadata": {},
   "outputs": [],
   "source": [
    "with open('names.csv', 'r') as f:\n",
    "    reader = csv.reader(f, delimiter=',')\n",
    "    i = 0\n",
    "    for row in reader:\n",
    "        print(row)\n",
    "        \n",
    "        i += 1\n",
    "        if i == 10:\n",
    "            break"
   ]
  },
  {
   "cell_type": "markdown",
   "metadata": {},
   "source": [
    "Writing a CSV file is similarly stra|ightforward."
   ]
  },
  {
   "cell_type": "code",
   "execution_count": null,
   "metadata": {},
   "outputs": [],
   "source": [
    "with open('passwords.csv', 'w') as f:\n",
    "    writer = csv.writer(f, delimiter=',')\n",
    "    writer.writerow(['Username', 'Password'])\n",
    "    writer.writerow(['John Smith', 'abc123'])\n",
    "    \n",
    "with open('passwords.csv', 'r') as f:\n",
    "    print(f.read())"
   ]
  },
  {
   "cell_type": "markdown",
   "metadata": {},
   "source": [
    "Although we could have achieved the same thing without the CSV library, as shown in the next cell."
   ]
  },
  {
   "cell_type": "code",
   "execution_count": null,
   "metadata": {},
   "outputs": [],
   "source": [
    "with open('passwords2.csv', 'w') as f:\n",
    "    f.write('Username,Password\\n')\n",
    "    f.write('John Smith,abc123\\n')\n",
    "\n",
    "with open('passwords2.csv', 'r') as f:\n",
    "    print(f.read())"
   ]
  },
  {
   "cell_type": "markdown",
   "metadata": {},
   "source": [
    "Now let's make a function that can add a new row to this file.\n",
    "First we'll do it without the CSV library. "
   ]
  },
  {
   "cell_type": "code",
   "execution_count": null,
   "metadata": {},
   "outputs": [],
   "source": [
    "def addUsernameAndPwd(username, password):\n",
    "    with open('passwords2.csv', 'a') as f:\n",
    "        f.write('{},{}\\n'.format(username, password))\n",
    "\n",
    "addUsernameAndPwd('Jane Doe', 'pass1')\n",
    "addUsernameAndPwd('Simon Singh', 'abc,xyz')\n",
    "\n",
    "with open('passwords2.csv', 'r') as f:\n",
    "    print(f.read())"
   ]
  },
  {
   "cell_type": "markdown",
   "metadata": {},
   "source": [
    "Something has gone wrong here.\n",
    "Simon Singh used a password that includes a comma but we've used a comma as the delimiter in our CSV file.\n",
    "The data is now confusing, there is a row that appears to have three items where there should only be two and this will cause problems when we try to read the data into Python again or use it in a different application.\n",
    "\n",
    "We could try to fix our problem by changing the delimiter but any character we use could be included in a password. \n",
    "The CSV library has a better way of handling this problem, using **quotechars**.\n",
    "A quotechar is a special character (usually a quotation mark) that indicates everything between the characters should be interpreted as a single string even if it contains the character used as a delimiter.\n",
    "Repeating the above example using the CSV library should make this clear."
   ]
  },
  {
   "cell_type": "code",
   "execution_count": null,
   "metadata": {},
   "outputs": [],
   "source": [
    "def addUsernameAndPwd(username, password):\n",
    "    with open('passwords.csv', 'a') as f:\n",
    "        writer = csv.writer(f, delimiter=',', quotechar='\"', quoting=csv.QUOTE_MINIMAL)\n",
    "        writer.writerow([username, password])\n",
    "\n",
    "addUsernameAndPwd('Jane Doe', 'pass1')\n",
    "addUsernameAndPwd('Simon Singh', 'abc,xyz')\n",
    "\n",
    "with open('passwords.csv', 'r') as f:\n",
    "    print(f.read())\n",
    "    \n",
    "# csv reader function handles the quoted string automatically\n",
    "with open('passwords.csv', 'r') as f:\n",
    "    reader = csv.reader(f, delimiter=',', quotechar='\"')\n",
    "    for row in reader:\n",
    "        print(row)"
   ]
  },
  {
   "cell_type": "markdown",
   "metadata": {},
   "source": [
    "The quotechar is \" by default but can be modified by passing the optional parameter ``quotechar`` to the ``writer()`` function.\n",
    "It is also possible to tell the writer to quote everything, or quote every field that is non-numeric. \n",
    "This is set using the optional parameter ``quoting``.\n",
    "When reading a CSV file the same optional parameters (with the same default values) are used to tell Python how to interpret the file.\n",
    "You can read more about the CSV library in the Python documentation, including more details about using quotechars, at https://docs.python.org/3/library/csv.html.\n",
    "You could also play with the above examples using different quotechars. "
   ]
  },
  {
   "cell_type": "markdown",
   "metadata": {},
   "source": [
    "### CSV to Python Dictionary\n",
    "The CSV library also supports reading a CSV file to a dictionary and writing from dictionaries to CSV.\n",
    "The first row of the CSV file is assumed to be a header row.\n",
    "The keys of the dictionary correspond to the column names given in the header row."
   ]
  },
  {
   "cell_type": "code",
   "execution_count": null,
   "metadata": {},
   "outputs": [],
   "source": [
    "with open('passwords.csv', mode='r') as f:\n",
    "    dict_reader = csv.DictReader(f)\n",
    "    for row in dict_reader:\n",
    "        print(row)"
   ]
  },
  {
   "cell_type": "code",
   "execution_count": null,
   "metadata": {},
   "outputs": [],
   "source": [
    "data = [\n",
    "    {'username': 'John Smith', 'department': 'finance'},\n",
    "    {'username': 'Jane Doe', 'department': 'human resources'},\n",
    "    {'username': 'Simon Singh', 'department': 'IT'},\n",
    "]\n",
    "\n",
    "with open('department.csv', mode='w') as f:\n",
    "    column_headers = data[0].keys() # get the field names from the keys of the first dictionary\n",
    "    dict_writer = csv.DictWriter(f, fieldnames=column_headers) # pass the field names into the writer\n",
    "    dict_writer.writeheader() # write the header row containing the field names\n",
    "    for row in data:\n",
    "        dict_writer.writerow(row) # write a row for each dictionary\n",
    "    \n",
    "with open('department.csv', mode='r') as f:\n",
    "    print(f.read())"
   ]
  },
  {
   "cell_type": "markdown",
   "metadata": {},
   "source": [
    "## Exercise 4\n",
    "\n",
    "The following exercise uses the CSV library and demonstrates some of the challenges of working with data which is not initially in a good format for analysis.\n",
    "You will need the file 'maternalMortalityBasic.csv' which you can download from the course website. \n",
    "Put the file inthe same directory as this notebook.\n",
    "\n",
    "The file 'maternalMortalityBasic.csv' contains data about maternal mortality rates in diffrent countries, as well as those countries' populations and GDP (gross domestic product) per person. \n",
    "Maternal mortality is measured by the number of women who die for each 100,000 babies born.\n",
    "GDP is an indicator of the wealth of a country.\n",
    "In this file we have data for each of the three measures in 1990 and 2015.\n",
    "This exercise begins to explore to data to see if there could be a relationship between maternal mortality rate and GDP. \n",
    "\n",
    "Open the file in a text editor or spreadsheet application (e.g. Excel)  and look at the data.\n",
    "Think about what problems might arise when trying to use it.\n",
    "\n",
    "#### Task 1: Get the data into a useable format.\n",
    "Currently the data is not easy to analyse because of the way numerical values are presented.\n",
    "Numbers use a comma to improve readability for humans e.g. 1000 is written 1,000.\n",
    "This has forced the csv file to show these values as a string in quote marks so that the comma is not misinterpreted as a column separator and prevents Python for easily recognising these values as numeric.\n",
    "Money values are shown with a dollar sign.\n",
    "Large numerical values are written as e.g. 1.4 million. \n",
    "\n",
    "Use Python to open the file and iterate through the lines of data.\n",
    "Create a new file with modified values which are easier to analyse.\n",
    "In particular you should remove dollar signs and commas from numeric values and convert large values to purely numeric form (e.g. 1.4 million becomes 1400000, 1.2 billion becomes 1200000000).\n",
    "The aim is for the new file to contain exactly the same information as the original file but with numerical values presented so that Python can understand them as numbers. \n",
    "\n",
    "Hint: don't try making all the changes at once. Make a few changes and open both files in a text editor and look at the data to check that your changes have worked as you expected. If your early attempts generate error messages use these to find rows which might need special handling. It is normal to need several attempts at a task like this! "
   ]
  },
  {
   "cell_type": "code",
   "execution_count": null,
   "metadata": {},
   "outputs": [],
   "source": []
  },
  {
   "cell_type": "markdown",
   "metadata": {},
   "source": [
    "#### Task 2: Calculate absolute and percentage change.\n",
    "For each of the three measures (maternal mortality, population, GDP) we have a value for 1990 and a value for 2015. \n",
    "Open your file containing the machine readable data and iterate through the rows.\n",
    "For each row calculate the amount that each measure has changed between 1990 and 2015.\n",
    "For example, \n",
    "\n",
    "**population_change = population_in_2015 - population_in_1990**.\n",
    "\n",
    "Also calculate the percentage change.\n",
    "For example,\n",
    "\n",
    "**population_percentage_change = (population_change / population_in_1990) * 100**.\n",
    "\n",
    "Create another new csv file with new columns to contain these six extra pieces of data."
   ]
  },
  {
   "cell_type": "code",
   "execution_count": null,
   "metadata": {},
   "outputs": [],
   "source": []
  },
  {
   "cell_type": "markdown",
   "metadata": {},
   "source": [
    "#### Task 3: Plot something.\n",
    "The next step in analysing this data would be to plot the changes in maternal mortality against the change in population or GDP to see if there could be a correlation.\n",
    "We haven't covered data visualisation yet but the following cell gives an example of how the percentage change in maternal mortality rates and GDP can be plotted against each other in a simple scatter plot.\n",
    "The code below needs to be modified slightly according to how you have completed the previous two parts of this exercise.\n",
    "In particular, you need to add the file name and check the numbers of the columns that the relevant data is in. "
   ]
  },
  {
   "cell_type": "code",
   "execution_count": null,
   "metadata": {},
   "outputs": [],
   "source": [
    "import csv\n",
    "import matplotlib.pyplot as plt\n",
    "\n",
    "# UPDATE WITH CORRECT FILE NAME\n",
    "with open('your_file_name.csv', 'r') as diff_file:\n",
    "    diff_reader = csv.reader(diff_file, delimiter=',')\n",
    "    mmpc = []\n",
    "    gdppc = []\n",
    "    \n",
    "    # UPDATE WITH CORRECT COLUMN NUMBERS (REMEMBER PYTHON USES ZERO INDEXING)\n",
    "    mmpcColNumber = 8        # 9th column is % change in maternal mortality rate\n",
    "    gdppcColNumber = 10      # 11th column is % change in gdp\n",
    "    \n",
    "    row_num = 0\n",
    "    for row in diff_reader:\n",
    "        if row_num == 0: # header row\n",
    "            pass\n",
    "        else:\n",
    "            if row[mmpcColNumber] and row[gdppcColNumber]: # check that the data we will plot is present\n",
    "                if int(row[gdppcColNumber]) < 200: # this removes some outliers with very high increase in gdp which make the plot unreadable. \n",
    "                    mmpc.append(int(row[mmpcColNumber]))\n",
    "                    gdppc.append(int(row[gdppcColNumber]))\n",
    "        row_num += 1\n",
    "        \n",
    "plt.scatter(gdppc, mmpc, alpha=0.5)\n",
    "plt.ylabel('maternal mortality % change')\n",
    "plt.xlabel('GDP % change')\n",
    "plt.title('Maternal Mortality vs GDP change')\n",
    "plt.show()"
   ]
  },
  {
   "cell_type": "markdown",
   "metadata": {},
   "source": [
    "# Solutions to Exercises\n",
    "## 1\n",
    "All that's missing is we'd forgotted to actually write the line to the file!"
   ]
  },
  {
   "cell_type": "code",
   "execution_count": null,
   "metadata": {},
   "outputs": [],
   "source": [
    "with open('squares_example.txt', 'a') as squares_file:\n",
    "    for k in range( 1, 11 ):\n",
    "        sq = k*k\n",
    "        output_string = \"{} squared is {} \\n\".format(k, sq) \n",
    "        # new line that writes this line to the file\n",
    "        squares_file.write(output_string)\n",
    "        \n",
    "# show that the file now has data\n",
    "with open('squares_example.txt', 'r') as f:\n",
    "    print(f.read())"
   ]
  },
  {
   "cell_type": "markdown",
   "metadata": {},
   "source": [
    "## 2"
   ]
  },
  {
   "cell_type": "code",
   "execution_count": null,
   "metadata": {},
   "outputs": [],
   "source": [
    "def file_size_info(filename):\n",
    "    with open(filename) as f:\n",
    "         contents = f.read()\n",
    "\n",
    "    # contents is a string.\n",
    "    # the length of a string is the number of characters it contains.\n",
    "    num_chars = len(contents)\n",
    "            \n",
    "    # create a list where each item is a line.\n",
    "    lines = contents.split('\\n')\n",
    "    # the number of lines is the number of items in the list.\n",
    "    num_lines = len(lines)\n",
    "\n",
    "    # words can be separated by a space or a new line.\n",
    "    # replace new line by space,\n",
    "    contents = contents.replace('\\n', ' ')\n",
    "    # then split on space, creating a list where each item is a word.\n",
    "    words = contents.split(' ')   \n",
    "    num_words = len(words)\n",
    "\n",
    "    # print the results\n",
    "    print(\"The file '{}' contains:\".format(filename))\n",
    "    print(\"{:>6} characters\".format(num_chars))\n",
    "    print(\"{:>6} words\".format(num_words))\n",
    "    print(\"{:>6} lines\".format(num_lines))\n",
    "\n",
    "# use the function\n",
    "file_size_info('a_tale_of_two_cities.txt')"
   ]
  },
  {
   "cell_type": "markdown",
   "metadata": {},
   "source": [
    "## 3"
   ]
  },
  {
   "cell_type": "code",
   "execution_count": null,
   "metadata": {},
   "outputs": [],
   "source": [
    "with open('names.csv', 'r') as names, open('addresses.csv', 'a') as emails:\n",
    "    header_line = names.readline() # don't need this\n",
    "    emails.write('person_id,email_address\\n') # create header line in new file\n",
    "    \n",
    "    line = names.readline() # get first data line\n",
    "    while line != '':\n",
    "        line = line.replace('\\n','').lower() # remove the newline character. make all lower case. \n",
    "        data = line.split(',')               # split the line to create a list of data from this line.\n",
    "\n",
    "        person_id = data[0]\n",
    "        address = data[1]+'.'+data[2]+'@mybusiness.com'    # format the email address\n",
    "        emails.write('{},{}\\n'.format(person_id, address)) # write out the line for the new file\n",
    "\n",
    "        line = names.readline() # get the next line from the names file for next iteration"
   ]
  },
  {
   "cell_type": "markdown",
   "metadata": {},
   "source": [
    "## 4\n",
    "Task 1: get the data into a useable format"
   ]
  },
  {
   "cell_type": "code",
   "execution_count": null,
   "metadata": {},
   "outputs": [],
   "source": [
    "import csv\n",
    "\n",
    "# a helper function to remove all special formatting and return a simple integer value\n",
    "def stringToInt(stringValue):\n",
    "    if stringValue == '':\n",
    "        return stringValue # this field contains no data\n",
    "    if stringValue.isnumeric():\n",
    "        return int(stringValue) # simplest case, no formatting to remove\n",
    "    sv = stringValue.replace(',', '') # comma used as separator within numbers, remove\n",
    "    sv = sv.replace('$', '') # currency signs can simply be removed\n",
    "    sv = sv.replace(' ', '') \n",
    "    sv = sv.replace('.00', '') # relevant to columns containing large values but where this value is below 1 million\n",
    "    if 'million' in sv:\n",
    "        sv = sv.replace('million', '')\n",
    "        sv = float(sv) * 1000000\n",
    "        return int(sv)\n",
    "    if 'billion' in sv:\n",
    "        sv = sv.replace('billion', '')\n",
    "        sv = float(sv) * 1000000000\n",
    "    return int(sv) \n",
    "\n",
    "data = [] # to collect the new rows as they are handled\n",
    "with open('maternalMortalityBasic.csv', 'r') as f:\n",
    "    csv_as_dict = csv.DictReader(f)\n",
    "    line_count = 0\n",
    "    for row in csv_as_dict:\n",
    "        if line_count == 0:\n",
    "            headers = list(row.keys()) # will be used in the new file below\n",
    "        for key, value in row.items():\n",
    "            if key == 'Country':\n",
    "                pass # don't need to change this\n",
    "            else:\n",
    "                row[key] = stringToInt(value) # update this entry to be an integer\n",
    "        data.append(row) # save this modified row for later\n",
    "        line_count += 1\n",
    "\n",
    "# now write out the modified data to a new file\n",
    "with open('maternalMortalityInts.csv', 'w') as f2: \n",
    "    writer = csv.DictWriter(f2, fieldnames=headers) # headers var is from maternalMortalityBasic.csv\n",
    "    writer.writeheader()\n",
    "    for row in data:\n",
    "        writer.writerow(row)"
   ]
  },
  {
   "cell_type": "markdown",
   "metadata": {},
   "source": [
    "Task 2: calculate absolute and percentage change"
   ]
  },
  {
   "cell_type": "code",
   "execution_count": null,
   "metadata": {},
   "outputs": [],
   "source": [
    "import csv\n",
    "\n",
    "with open('maternalMortalityInts.csv', 'r') as read_file, open('matMortDiff.csv', 'w') as write_file:\n",
    "    csv_reader = csv.reader(read_file, delimiter=',')\n",
    "    csv_writer = csv.writer(write_file, delimiter=',', quotechar='\"', quoting=csv.QUOTE_MINIMAL)\n",
    "    row_num = 0\n",
    "    for row in csv_reader:\n",
    "        if row_num == 0:\n",
    "            # add new columns\n",
    "            row.extend(['MM diff', 'MM pc diff','GDP diff', 'GDP pc diff', 'Popln diff', 'Popln pc diff'])\n",
    "            csv_writer.writerow(row)\n",
    "        else:\n",
    "            MMdiff = ''\n",
    "            MMpc = ''\n",
    "            GDPdiff = ''\n",
    "            GDPpc = ''\n",
    "            popDiff = ''\n",
    "            popPc = ''\n",
    "            # calculate difference and % change\n",
    "            if row[2] and row[1]:\n",
    "                MMdiff = int(row[2])-int(row[1])\n",
    "                MMpc = round(MMdiff/int(row[1]) * 100)\n",
    "            if row[4] and row [3]:\n",
    "                GDPdiff = int(row[4])-int(row[3])\n",
    "                GDPpc = round(GDPdiff/int(row[3]) * 100)\n",
    "            if row[6] and row[5]:\t\n",
    "                popDiff = int(row[6])-int(row[5])\n",
    "                popPc = round(popDiff/int(row[5]) * 100)\n",
    "            # add the new values to the row. Order matches column names!\n",
    "            row.extend([MMdiff, MMpc, GDPdiff, GDPpc, popDiff, popPc]) \n",
    "            csv_writer.writerow(row) # write out row to new file\n",
    "        row_num += 1"
   ]
  },
  {
   "cell_type": "markdown",
   "metadata": {},
   "source": [
    "Task 3: plot something"
   ]
  },
  {
   "cell_type": "code",
   "execution_count": null,
   "metadata": {},
   "outputs": [],
   "source": [
    "import csv\n",
    "import matplotlib.pyplot as plt\n",
    "\n",
    "# UPDATE WITH CORRECT FILE NAME\n",
    "with open('matMortDiff.csv', 'r') as diff_file:\n",
    "    diff_reader = csv.reader(diff_file, delimiter=',')\n",
    "    mmpc = []\n",
    "    gdppc = []\n",
    "    \n",
    "    # UPDATE WITH CORRECT COLUMN NUMBERS (REMEMBER PYTHON USES ZERO INDEXING)\n",
    "    mmpcColNumber = 8        # 9th column is % change in maternal mortality rate\n",
    "    gdppcColNumber = 10      # 11th column is % change in gdp\n",
    "    \n",
    "    row_num = 0\n",
    "    for row in diff_reader:\n",
    "        if row_num == 0: # header row\n",
    "            pass\n",
    "        else:\n",
    "            if row[mmpcColNumber] and row[gdppcColNumber]: # check that the data we will plot is present\n",
    "                if int(row[gdppcColNumber]) < 200: # this removes some outliers with very high increase in gdp which make the plot unreadable. \n",
    "                    mmpc.append(int(row[mmpcColNumber]))\n",
    "                    gdppc.append(int(row[gdppcColNumber]))\n",
    "        row_num += 1\n",
    "        \n",
    "plt.scatter(gdppc, mmpc, alpha=0.5)\n",
    "plt.ylabel('maternal mortality % change')\n",
    "plt.xlabel('GDP % change')\n",
    "plt.title('Maternal Mortality vs GDP change')\n",
    "plt.show()"
   ]
  }
 ],
 "metadata": {
  "kernelspec": {
   "display_name": "Python 3",
   "language": "python",
   "name": "python3"
  },
  "language_info": {
   "codemirror_mode": {
    "name": "ipython",
    "version": 3
   },
   "file_extension": ".py",
   "mimetype": "text/x-python",
   "name": "python",
   "nbconvert_exporter": "python",
   "pygments_lexer": "ipython3",
   "version": "3.9.0"
  }
 },
 "nbformat": 4,
 "nbformat_minor": 4
}
