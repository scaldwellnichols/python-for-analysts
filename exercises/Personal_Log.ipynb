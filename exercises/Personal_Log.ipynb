{
 "cells": [
  {
   "cell_type": "markdown",
   "metadata": {},
   "source": [
    "# Personal Log"
   ]
  },
  {
   "cell_type": "markdown",
   "metadata": {},
   "source": [
    "This exercise has two aims:\n",
    "* to introduce you to __Jupyter__'s markdown language and give you an opportunity\n",
    "  to experiment with its key features,\n",
    "* to make a start on a __Personal Log__ which you are encouraged to re-visit\n",
    "  and extend throughout your studies on this module.\n",
    "\n",
    "Jupyter notebooks provide a convenient and flexible medium for keeping track\n",
    "of information related to any kind of project. Although geared towards creating\n",
    "annotations related to programs, the  __markdown__ syntax is a general way of\n",
    "organising and formatting textual information, and provides many useful features\n",
    "such as the ability to embed images, create hyperlinks and incorporate other\n",
    "powerful formating languages such as **HTML** and _LaTeX_.\n",
    "\n",
    "To get started, select this cell and press  the **Enter** key. You should \n",
    "then see the _Markdown_ content of the cell, which is a combination of\n",
    "text and formatting instructions. To convert back to the formatted\n",
    "version press **Ctrl-Enter**, or **Shift-Enter** to format and step to\n",
    "the next cell (or click **Run** on the menu above).\n",
    "\n",
    "## Exercise Details\n",
    "\n",
    "Starting with this file you should create a personal log of all your work on\n",
    "the module. In particular you should do the following:\n",
    "\n",
    "* Choose or create a main folder in which you are going to keep all your\n",
    "  work for this module.\n",
    "* Copy this file to that folder.\n",
    "* Open this file in Jupyter notebook\n",
    "* Look at the cells below and follow the instructions.\n",
    "* Delete this cell.\n",
    "* Save your newly created _Personal Log_ notebook.\n",
    "* Remember to add new notes and links to this Log file as you progress\n",
    "  through the course! "
   ]
  },
  {
   "cell_type": "markdown",
   "metadata": {},
   "source": [
    "## Dear Diary, ...\n",
    "\n",
    "In this _cell_ write a brief account of what you are doing on the\n",
    "day you start this Log and how your course has been going so far.\n",
    "\n",
    "Try using _italic_ and **bold** fonts to emphasise key words and phrases."
   ]
  },
  {
   "cell_type": "markdown",
   "metadata": {},
   "source": [
    "## Get Connected\n",
    "\n",
    "In this cell create a list of useful links to other\n",
    "resources you have found and may want to refer to again.\n",
    "You could start with the following.\n",
    "\n",
    "* [The official Jupyter Markdown documentation](https://jupyter-notebook.readthedocs.io/en/stable/examples/Notebook/Working%20With%20Markdown%20Cells.html)"
   ]
  },
  {
   "cell_type": "markdown",
   "metadata": {},
   "source": [
    "## Investigate and Experiment\n",
    "Find out about other features of Markdown and their use in Jupyter.\n",
    "Create some examples of features you think may be useful for you.\n",
    "For instance you could try some of the following:\n",
    "\n",
    "* Using different sized headings\n",
    "* Nested bullet lists\n",
    "* Adding HTML formatting commands\n",
    "* Creating tables\n",
    "* Using _LaTex_ to display formulae\n",
    "* Inserting images"
   ]
  }
 ],
 "metadata": {
  "kernelspec": {
   "display_name": "Python 3",
   "language": "python",
   "name": "python3"
  },
  "language_info": {
   "codemirror_mode": {
    "name": "ipython",
    "version": 3
   },
   "file_extension": ".py",
   "mimetype": "text/x-python",
   "name": "python",
   "nbconvert_exporter": "python",
   "pygments_lexer": "ipython3",
   "version": "3.7.8"
  }
 },
 "nbformat": 4,
 "nbformat_minor": 2
}
