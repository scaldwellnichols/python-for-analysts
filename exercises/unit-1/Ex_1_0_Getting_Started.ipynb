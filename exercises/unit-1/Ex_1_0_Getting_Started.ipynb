{
 "cells": [
  {
   "cell_type": "markdown",
   "metadata": {},
   "source": [
    "# Getting Started with Python and Jupyter\n",
    "\n",
    "This exercise will help you to get familiar with Jupyter notebooks by leading you through how to create and run code cells. \n",
    "\n",
    "The Jupyter notebooks in this course will consist of Markdown cells (like this one) containing text, and code cells (see below). \n",
    "\n",
    "To execute the code cell use your cursor to select it. A blue or green box will appear around the cell when you do this. Then select 'Run' from the taskbar above or press ``shift``and ``Enter`` on your keyboard. \n",
    "\n",
    "When this cell runs some output will appear below it and the next cell (in this case a Markdown cell) will be selected. You can also use shift+Enter to move past the Markdown cells. "
   ]
  },
  {
   "cell_type": "code",
   "execution_count": null,
   "metadata": {},
   "outputs": [],
   "source": [
    "3 + 5"
   ]
  },
  {
   "cell_type": "markdown",
   "metadata": {},
   "source": [
    "The next cell is an empty code cell. Enter your own code in here and run it. For example you could use it to calculate 17 + 21."
   ]
  },
  {
   "cell_type": "code",
   "execution_count": null,
   "metadata": {},
   "outputs": [],
   "source": []
  },
  {
   "cell_type": "markdown",
   "metadata": {},
   "source": [
    "To add a new cell go to the ``Insert`` menu above and choose 'Insert Cell Above' or 'Insert Cell Below'. A new cell should automatically be a code cell and you can change the type in the menu ``Cell``, ``Cell Type``. \n",
    "\n",
    "Not every cell will output something when it's run. The following cell does not generate any output. Run it now. You will see that it has run because the next cell will be selected. "
   ]
  },
  {
   "cell_type": "code",
   "execution_count": null,
   "metadata": {},
   "outputs": [],
   "source": [
    "x = 3 + 5"
   ]
  },
  {
   "cell_type": "markdown",
   "metadata": {},
   "source": [
    "After running the previous cell the variable ``x`` contains the value 8. We can use the variable ``x`` in a later cell. "
   ]
  },
  {
   "cell_type": "code",
   "execution_count": null,
   "metadata": {},
   "outputs": [],
   "source": [
    "print(x)"
   ]
  },
  {
   "cell_type": "markdown",
   "metadata": {},
   "source": [
    "Of course the order matters. If we had tried to run ``print(x)`` before ``x`` had a value then Python would not have known what to print and this would create an error. The next cell will create an error for exactly this reason: the variable ``y`` has not been defined yet. "
   ]
  },
  {
   "cell_type": "code",
   "execution_count": null,
   "metadata": {},
   "outputs": [],
   "source": [
    "print(y)"
   ]
  },
  {
   "cell_type": "markdown",
   "metadata": {},
   "source": [
    "When you run a cell that has a mistake in the code an error message will be printed. That's fine, don't worry. The error message contains helpful information to help you fix the mistake. For example, the error message from running the previous cell tells us that ``y`` is not defined. It also highlights the line that created the problem, which is very useful when running longer pieces of code. \n",
    "\n",
    "Once the variable ``y`` is defined the previous cell will no longer cause an error. Create a new cell below this one and assign a value to ``y``. Run the new cell and then run the previous cell again. \n",
    "\n",
    "The order of the cells in the notebook is not important here, what matters is the order in which you run the cells. "
   ]
  },
  {
   "cell_type": "markdown",
   "metadata": {},
   "source": [
    "A code cell can output more than one thing."
   ]
  },
  {
   "cell_type": "code",
   "execution_count": null,
   "metadata": {},
   "outputs": [],
   "source": [
    "print('hello')\n",
    "print('goodbye')"
   ]
  },
  {
   "cell_type": "markdown",
   "metadata": {},
   "source": [
    "As well as showing output when the code explicitly instructs this (for example, the ``print()`` function causes a program to give an output) Jupyter notebook outputs the return value of the final statement in the cell. This is why the very first cell we ran gave an output even though we did not explicitly instruct this using the ``print()`` function. This is a special feature of Jupyter notebooks. If you wrote a Python file contianing the line ``3+5`` using IDLE or a text editor, and then ran the file from the command line, it would not give any output. This can cause some confusion when switching from using notebooks to another context. It's not something to worry about now but it's good to be aware that printing the return value of the final statement in a cell is a feature of the notebook, not of Python. "
   ]
  }
 ],
 "metadata": {
  "kernelspec": {
   "display_name": "Python 3.9.12 ('base')",
   "language": "python",
   "name": "python3"
  },
  "language_info": {
   "codemirror_mode": {
    "name": "ipython",
    "version": 3
   },
   "file_extension": ".py",
   "mimetype": "text/x-python",
   "name": "python",
   "nbconvert_exporter": "python",
   "pygments_lexer": "ipython3",
   "version": "3.9.12"
  },
  "vscode": {
   "interpreter": {
    "hash": "0bac843e4236d23742ad37ff9472ae524709fca30666f5dda277e22e10080d16"
   }
  }
 },
 "nbformat": 4,
 "nbformat_minor": 4
}
